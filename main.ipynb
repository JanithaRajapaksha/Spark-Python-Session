{
 "cells": [
  {
   "cell_type": "markdown",
   "metadata": {},
   "source": [
    "# Python Workshop Notebook"
   ]
  },
  {
   "cell_type": "markdown",
   "metadata": {},
   "source": [
    "## 1. Python Basics"
   ]
  },
  {
   "cell_type": "markdown",
   "metadata": {},
   "source": [
    "### Variables and Data Types"
   ]
  },
  {
   "cell_type": "code",
   "execution_count": null,
   "metadata": {},
   "outputs": [],
   "source": [
    "int_ex = 4\n",
    "float_ex = 3.14\n",
    "string_ex = \"python\"\n",
    "bool_ex = True"
   ]
  },
  {
   "cell_type": "code",
   "execution_count": null,
   "metadata": {},
   "outputs": [],
   "source": [
    "# print the type of the variables\n",
    "print(type(int_ex))\n",
    "print(type(float_ex))\n",
    "print(type(string_ex))\n",
    "print(type(bool_ex))"
   ]
  },
  {
   "cell_type": "code",
   "execution_count": null,
   "metadata": {},
   "outputs": [],
   "source": [
    "name = \"Python Workshop\"\n",
    "session = 2\n",
    "print(f\"Welcome to the {name}! This is session number {session}.\")"
   ]
  },
  {
   "cell_type": "markdown",
   "metadata": {},
   "source": [
    "### Operations\n",
    "\n",
    "The following operations will be covered in this section:\n",
    "\n",
    "1. **Arithmetic Operations**  \n",
    "   - `+`, `-`, `*`, `/`, `//`, `%`, `**` (for addition, subtraction, multiplication, division, integer division, modulus, and exponentiation).\n",
    "\n",
    "2. **Comparison Operations**  \n",
    "   - `==`, `!=`, `>`, `<`, `>=`, `<=` (for equality, inequality, and comparisons).\n",
    "\n",
    "3. **Logical Operations**  \n",
    "   - `and`, `or`, `not` (for combining conditions).\n",
    "\n",
    "4. **Assignment Operations**  \n",
    "   - `=`, `+=`, `-=`, `*=`, `/=`, `%=` (for assigning and updating values).\n",
    "\n",
    "5. **Membership Operations**  \n",
    "   - `in`, `not in` (to check if a value is in a sequence).\n",
    "\n",
    "These fundamental operations form the core of manipulating and controlling data in Python programs."
   ]
  },
  {
   "cell_type": "markdown",
   "metadata": {},
   "source": [
    "#### Arithmetic Operations"
   ]
  },
  {
   "cell_type": "code",
   "execution_count": null,
   "metadata": {},
   "outputs": [],
   "source": [
    "a = 5\n",
    "b = 3\n",
    "print(a + b)\n",
    "print(a - b)\n",
    "print(a * b)\n",
    "print(a / b)\n",
    "print(a // b)\n",
    "print(a % b)\n",
    "print(a ** b)"
   ]
  },
  {
   "cell_type": "markdown",
   "metadata": {},
   "source": [
    "#### Comparison Operations"
   ]
  },
  {
   "cell_type": "code",
   "execution_count": null,
   "metadata": {},
   "outputs": [],
   "source": [
    "print(5 == 3)\n",
    "print(5 != 3)\n",
    "print(5 > 3)\n",
    "print(5 < 3)\n",
    "print(5 >= 3)\n",
    "print(5 <= 3)"
   ]
  },
  {
   "cell_type": "markdown",
   "metadata": {},
   "source": [
    "#### Logical Operations"
   ]
  },
  {
   "cell_type": "code",
   "execution_count": null,
   "metadata": {},
   "outputs": [],
   "source": [
    "a = True\n",
    "b = False\n",
    "\n",
    "print(a and b)  # Logical AND\n",
    "print(a or b)   # Logical OR\n",
    "print(not a)    # Logical NOT"
   ]
  },
  {
   "cell_type": "markdown",
   "metadata": {},
   "source": [
    "#### Assignment Operations "
   ]
  },
  {
   "cell_type": "code",
   "execution_count": null,
   "metadata": {},
   "outputs": [],
   "source": [
    "x = 5\n",
    "x += 3  \n",
    "print(x)\n",
    "\n",
    "x -= 2  \n",
    "print(x)\n",
    "\n",
    "x *= 2  \n",
    "print(x)\n",
    "\n",
    "x /= 3  \n",
    "print(x)\n",
    "\n",
    "x //= 2  \n",
    "print(x)\n",
    "\n",
    "x %= 3  \n",
    "print(x)"
   ]
  },
  {
   "cell_type": "markdown",
   "metadata": {},
   "source": [
    "#### Identity Operations"
   ]
  },
  {
   "cell_type": "code",
   "execution_count": null,
   "metadata": {},
   "outputs": [],
   "source": [
    "x = 10\n",
    "y = 10\n",
    "z = 15\n",
    "\n",
    "print(x is y)\n",
    "print(x is z)\n",
    "print(y is not z)\n"
   ]
  },
  {
   "cell_type": "markdown",
   "metadata": {},
   "source": [
    "#### Membership Operations"
   ]
  },
  {
   "cell_type": "code",
   "execution_count": null,
   "metadata": {},
   "outputs": [],
   "source": [
    "fruits = [\"apple\", \"banana\", \"cherry\"]\n",
    "print(\"apple\" in fruits)   \n",
    "print(\"grape\" not in fruits)  \n"
   ]
  },
  {
   "cell_type": "markdown",
   "metadata": {},
   "source": [
    "### Conditional Statements (if-else-elif)\n",
    "\n",
    "- **`if`**: Used to test a condition. If the condition is `True`, the code block under the `if` statement is executed.\n",
    "- **`elif`**: Stands for \"else if\". It allows you to check multiple conditions. If the `if` condition is `False`, it checks the `elif` condition(s) in sequence.\n",
    "- **`else`**: Used when all the previous conditions (`if` and `elif`) are `False`. The code block under `else` will run.\n"
   ]
  },
  {
   "cell_type": "code",
   "execution_count": null,
   "metadata": {},
   "outputs": [],
   "source": [
    "# Check if a number is positive, negative or zero\n",
    "num = 10\n",
    "if num > 0:\n",
    "    print(\"Number is positive\")\n",
    "elif num < 0:\n",
    "    print(\"Number is negative\")\n",
    "else:\n",
    "    print(\"Number is zero\")"
   ]
  },
  {
   "cell_type": "markdown",
   "metadata": {},
   "source": [
    "### Loops\n",
    "\n",
    "- **`for` loop**: Used to iterate over a sequence (like a list, tuple, or string). It executes a block of code for each item in the sequence.\n",
    "  \n",
    "- **`while` loop**: Executes a block of code as long as a condition is `True`. The loop stops when the condition becomes `False`.\n"
   ]
  },
  {
   "cell_type": "markdown",
   "metadata": {},
   "source": [
    "For Loop"
   ]
  },
  {
   "cell_type": "code",
   "execution_count": null,
   "metadata": {},
   "outputs": [],
   "source": [
    "for i in range(5):\n",
    "    if i % 2 == 0:\n",
    "        print(f\"{i} is even\")\n",
    "    else:\n",
    "        print(f\"{i} is odd\")"
   ]
  },
  {
   "cell_type": "markdown",
   "metadata": {},
   "source": [
    "While Loop"
   ]
  },
  {
   "cell_type": "code",
   "execution_count": null,
   "metadata": {},
   "outputs": [],
   "source": [
    "count = 0\n",
    "while count < 5:\n",
    "    print(f\"Count is {count}\")\n",
    "    count += 1"
   ]
  },
  {
   "cell_type": "markdown",
   "metadata": {},
   "source": [
    "### Functions"
   ]
  },
  {
   "cell_type": "code",
   "execution_count": null,
   "metadata": {},
   "outputs": [],
   "source": [
    "# A function that adds two numbers\n",
    "def add(a, b):\n",
    "    return a + b\n",
    "\n",
    "print(add(3, 4))"
   ]
  },
  {
   "cell_type": "code",
   "execution_count": null,
   "metadata": {},
   "outputs": [],
   "source": [
    "# A function that takes a name and returns a greeting message\n",
    "def greet(name):\n",
    "    return f\"Hello, {name}!\"\n",
    "\n",
    "print(greet(\"Participant\"))"
   ]
  },
  {
   "cell_type": "markdown",
   "metadata": {},
   "source": [
    "### Lists\n",
    "\n",
    "A **list** is a collection of items which are ordered and changeable. Lists allow duplicates and can store different data types.\n",
    "\n",
    "- **Creating a list**: Lists are created by placing items inside square brackets `[]`, separated by commas.\n",
    "  \n",
    "- **Accessing elements**: Use indices to access elements in a list. The index starts from `0` for the first item.\n",
    "  \n",
    "- **Modifying elements**: Lists are mutable, meaning you can change the value of an item using its index.\n",
    "\n",
    "#### List Operations\n",
    "\n",
    "1. **Adding elements**:\n",
    "   - `append(item)`: Adds an item to the end of the list.\n",
    "   - `insert(index, item)`: Inserts an item at the specified index.\n",
    "   \n",
    "2. **Removing elements**:\n",
    "   - `remove(item)`: Removes the first occurrence of the specified item.\n",
    "   - `pop(index)`: Removes and returns the item at the specified index. If no index is provided, it removes the last item.\n",
    "   - `clear()`: Removes all items from the list.\n",
    "\n",
    "3. **Accessing and modifying elements**:\n",
    "   - Indexing: Use indices to access or modify elements (e.g., `list[0]`).\n",
    "   - Slicing: Extract a part of the list using slice notation (e.g., `list[1:3]`).\n",
    "   \n",
    "4. **Other operations**:\n",
    "   - `len()`: Returns the number of items in the list.\n",
    "   - `count(item)`: Returns the number of occurrences of a specified item.\n",
    "   - `index(item)`: Returns the index of the first occurrence of a specified item.\n",
    "   - `sort()`: Sorts the list in ascending order.\n",
    "   - `reverse()`: Reverses the order of the list.\n",
    "   - `copy()`: Returns a shallow copy of the list.\n"
   ]
  },
  {
   "cell_type": "markdown",
   "metadata": {},
   "source": [
    "1. Creating Lists"
   ]
  },
  {
   "cell_type": "code",
   "execution_count": null,
   "metadata": {},
   "outputs": [],
   "source": [
    "# Example of a list\n",
    "fruits = [\"apple\", \"banana\", \"cherry\"]\n",
    "print(fruits)"
   ]
  },
  {
   "cell_type": "markdown",
   "metadata": {},
   "source": [
    "2. Accessing List Elements"
   ]
  },
  {
   "cell_type": "code",
   "execution_count": null,
   "metadata": {},
   "outputs": [],
   "source": [
    "# Accessing elements by index\n",
    "print(fruits[0])\n",
    "print(fruits[1])"
   ]
  },
  {
   "cell_type": "code",
   "execution_count": null,
   "metadata": {},
   "outputs": [],
   "source": [
    "# Negative index\n",
    "print(fruits[-1])\n",
    "print(fruits[-2])"
   ]
  },
  {
   "cell_type": "markdown",
   "metadata": {},
   "source": [
    "3. Modifying Lists"
   ]
  },
  {
   "cell_type": "code",
   "execution_count": null,
   "metadata": {},
   "outputs": [],
   "source": [
    "# Modifying a list element\n",
    "fruits[1] = \"orange\"  # Replaces 'banana' with 'orange'\n",
    "print(fruits)"
   ]
  },
  {
   "cell_type": "markdown",
   "metadata": {},
   "source": [
    "4. Adding Elements to a List"
   ]
  },
  {
   "cell_type": "code",
   "execution_count": null,
   "metadata": {},
   "outputs": [],
   "source": [
    "# Using append to add a single item\n",
    "fruits.append(\"grapes\")\n",
    "print(fruits)\n",
    "\n",
    "# Using insert to add an item at a specific index\n",
    "fruits.insert(1, \"blueberry\")  # Insert at index 1\n",
    "print(fruits)\n",
    "\n",
    "# Using extend to add multiple items\n",
    "fruits.extend([\"melon\", \"kiwi\"])\n",
    "print(fruits)"
   ]
  },
  {
   "cell_type": "markdown",
   "metadata": {},
   "source": [
    "5. Removing Items from a List"
   ]
  },
  {
   "cell_type": "code",
   "execution_count": null,
   "metadata": {},
   "outputs": [],
   "source": [
    "fruits = [\"apple\", \"banana\", \"cherry\"]\n",
    "\n",
    "# Using remove() to remove a specific item\n",
    "fruits.remove(\"banana\")\n",
    "print(fruits)\n",
    "\n",
    "\n",
    "# Using pop() to remove the last item\n",
    "fruits.pop()\n",
    "print(fruits)\n",
    "\n",
    "fruits = [\"apple\", \"banana\", \"cherry\"]\n",
    "\n",
    "# Using pop() with an index\n",
    "fruits.pop(2)  # Removes 'cherry' at index 2\n",
    "print(fruits)\n",
    "\n",
    "# Using clear() to remove all items\n",
    "fruits.clear()\n",
    "print(fruits) "
   ]
  },
  {
   "cell_type": "markdown",
   "metadata": {},
   "source": [
    "6. List Slicing"
   ]
  },
  {
   "cell_type": "code",
   "execution_count": null,
   "metadata": {},
   "outputs": [],
   "source": [
    "# Slicing a list\n",
    "fruits = [\"apple\", \"banana\", \"cherry\", \"date\", \"elderberry\"]\n",
    "print(fruits[1:4])\n",
    "print(fruits[:3])\n",
    "print(fruits[2:])\n",
    "print(fruits[-3:])"
   ]
  },
  {
   "cell_type": "markdown",
   "metadata": {},
   "source": [
    "7. List Operations"
   ]
  },
  {
   "cell_type": "code",
   "execution_count": null,
   "metadata": {},
   "outputs": [],
   "source": [
    "# Concatenating lists\n",
    "fruits = [\"apple\", \"banana\"]\n",
    "more_fruits = [\"cherry\", \"date\"]\n",
    "all_fruits = fruits + more_fruits\n",
    "print(all_fruits)\n",
    "\n",
    "# Repeating lists\n",
    "fruits = [\"apple\", \"banana\"]\n",
    "repeated_fruits = fruits * 2\n",
    "print(repeated_fruits)\n",
    "\n",
    "# Checking membership\n",
    "print(\"apple\" in fruits)\n",
    "print(\"grape\" in fruits)"
   ]
  },
  {
   "cell_type": "markdown",
   "metadata": {},
   "source": [
    "## Python Basics Exercise\n",
    "\n",
    "This notebook contains exercises to practice loops and conditional statements in Python.\n",
    "\n",
    "1. **Create a List Using a For Loop**  \n",
    "   - Generate a list of numbers from `1 to 20` using a `for` loop.\n",
    "   - Fill in the missing parts in the `range()` function and complete the loop logic.\n",
    "\n",
    "2. **Filter Even Numbers Using a Function**  \n",
    "   - Write a function `get_even_numbers()` that takes a list of numbers and returns a new list with only even numbers.\n",
    "   - Complete the `for` loop and condition inside the function.\n",
    "\n",
    "3. **Iterate Using a While Loop**  \n",
    "   - Use a `while` loop to print even numbers from the list until a number greater than `15` is encountered.\n",
    "   - Fill in the missing condition and statements to complete the logic.\n",
    "\n",
    "Complete the blanks and run the code to test your solutions!\n"
   ]
  },
  {
   "cell_type": "code",
   "execution_count": null,
   "metadata": {},
   "outputs": [],
   "source": [
    "# 1. Create a list of numbers from 1 to 20 using a for loop\n",
    "numbers = []\n",
    "for i in range(____, ____):  # Fill in the range\n",
    "    pass                     # Replace 'pass' with the code to add the number to the list\n",
    "print(numbers)"
   ]
  },
  {
   "cell_type": "code",
   "execution_count": null,
   "metadata": {},
   "outputs": [],
   "source": [
    "# 2. Write a function to return only even numbers\n",
    "def get_even_numbers(num_list):\n",
    "    even_numbers = []\n",
    "    for num in ____:    # Fill in the blank\n",
    "        if ():          # Fill in the condition\n",
    "            pass        # Replace 'pass' with the correct statement\n",
    "    return ____         # Replace the blank with the correct variable"
   ]
  },
  {
   "cell_type": "code",
   "execution_count": null,
   "metadata": {},
   "outputs": [],
   "source": [
    "even_numbers = get_even_numbers(____)\n",
    "print(f\"Even numbers: {____}\")"
   ]
  },
  {
   "cell_type": "code",
   "execution_count": null,
   "metadata": {},
   "outputs": [],
   "source": [
    "# 3. Use a while loop to print even numbers in the list, until one is greater than 15\n",
    "index = 0\n",
    "while (____):                           # Fill in the condition\n",
    "    pass                            # Replace 'pass' with the correct statements\n",
    "    pass                            # Replace 'pass' with the correct statements"
   ]
  },
  {
   "cell_type": "markdown",
   "metadata": {},
   "source": [
    "## 2. Practical Applications"
   ]
  },
  {
   "cell_type": "markdown",
   "metadata": {},
   "source": [
    "### Install Dependencies"
   ]
  },
  {
   "cell_type": "markdown",
   "metadata": {},
   "source": [
    "Run"
   ]
  },
  {
   "cell_type": "code",
   "execution_count": null,
   "metadata": {},
   "outputs": [],
   "source": [
    "%pip install -r requirements.txt"
   ]
  },
  {
   "cell_type": "markdown",
   "metadata": {},
   "source": [
    "or..."
   ]
  },
  {
   "cell_type": "code",
   "execution_count": null,
   "metadata": {},
   "outputs": [],
   "source": [
    "%pip install serial requests matplotlib numpy pandas scikit-learn opencv-python"
   ]
  },
  {
   "cell_type": "markdown",
   "metadata": {},
   "source": [
    "### Serial Communication"
   ]
  },
  {
   "cell_type": "markdown",
   "metadata": {},
   "source": [
    "<span style=\"color:red\">(DON'T test this here. Go to the given [Serial Visualization Script](serial_vis.py).\n",
    "This cell is only to show the base syntax.</span>\n",
    "\n",
    "The Arduino code is also given: [Open Arduino Code](pot_value_test/pot_value_test.ino))  \n",
    "\n",
    "### Important Instructions Before Running the Script  \n",
    "\n",
    "**Upload the Code to Your Arduino Board:**  \n",
    "1. Open the Arduino IDE.  \n",
    "2. Load the `pot_value_test.ino` file.  \n",
    "3. Connect your Arduino board to the PC via USB.  \n",
    "4. Select the correct **board** and **port** under `Tools → Board` and `Tools → Port`.  \n",
    "5. Verify the **baud rate** in the code (e.g., `Serial.begin(9600);`).  \n",
    "6. Click the **Upload** button and wait for the process to complete.  \n",
    "\n",
    "**Before Running the Python Script:**  \n",
    "- **Close the Serial Monitor** in the Arduino IDE to prevent port conflicts.  \n",
    "- Make note of the **COM port** (Windows) or **/dev/ttyUSBx** (Linux/Mac) used by your Arduino.  \n",
    "- Ensure the baud rate in the Python script matches the one used in your Arduino code.  \n",
    "\n",
    "Once everything is set, you can run the `serial_vis.py` script to visualize the data."
   ]
  },
  {
   "cell_type": "code",
   "execution_count": null,
   "metadata": {},
   "outputs": [],
   "source": [
    "import serial"
   ]
  },
  {
   "cell_type": "code",
   "execution_count": null,
   "metadata": {},
   "outputs": [],
   "source": [
    "ser = serial.Serial('COM3', 9600)                   # Change the port to the one used by your Arduino\n",
    "ser.write(b'Hello Arduino')                         # Send a message to the Arduino\n",
    "data = ser.readline().decode('utf-8').strip()       # Read the message from the Arduino\n",
    "print(f\"Received: {data}\")                          # Print the message\n",
    "ser.close()"
   ]
  },
  {
   "cell_type": "markdown",
   "metadata": {},
   "source": [
    "### HTTP API Requests\n",
    "\n",
    "In Python, HTTP requests are used to interact with web services or APIs. The `requests` library simplifies sending HTTP requests. Below are common request methods and their corresponding response codes.\n",
    "\n",
    "- **GET**: Retrieves data from a resource.\n",
    "- **POST**: Sends data to create or update a resource.\n",
    "- **PUT**: Fully updates a resource.\n",
    "- **DELETE**: Deletes a resource.\n",
    "- **HEAD**: Retrieves headers without the body.\n",
    "- **PATCH**: Partially updates a resource.\n",
    "\n",
    "##### Common HTTP Response Codes:\n",
    "- **200**: OK – The request was successful.\n",
    "- **201**: Created – The resource was created successfully (for POST or PUT).\n",
    "- **400**: Bad Request – The request is invalid or malformed.\n",
    "- **401**: Unauthorized – Authentication is required or failed.\n",
    "- **404**: Not Found – The resource could not be found.\n",
    "- **500**: Internal Server Error – The server encountered an error.\n"
   ]
  },
  {
   "cell_type": "code",
   "execution_count": null,
   "metadata": {},
   "outputs": [],
   "source": [
    "import requests"
   ]
  },
  {
   "cell_type": "code",
   "execution_count": null,
   "metadata": {},
   "outputs": [],
   "source": [
    "response = requests.get(\"https://api.spacexdata.com/v4/launches/latest\")\n",
    "if response.status_code == 200:\n",
    "    data = response.json()\n",
    "    print(data)\n",
    "else:\n",
    "    print(response.status_code)\n",
    "    print(\"Failed to fetch data\")"
   ]
  },
  {
   "cell_type": "markdown",
   "metadata": {},
   "source": [
    "### Using NumPy for Numerical Computations\n",
    "\n",
    "NumPy is a powerful library for numerical computing in Python, providing support for arrays and matrices along with a collection of mathematical functions to operate on these arrays. It is widely used for scientific computing, data analysis, and machine learning tasks.\n",
    "\n",
    "#### Common NumPy Operations:\n",
    "- **Array Creation**: Create arrays using `numpy.array()`, `numpy.zeros()`, `numpy.ones()`, etc.\n",
    "- **Element-wise Operations**: Perform operations like addition (`+`), multiplication (`*`), etc.\n",
    "- **Statistics**: Compute basic statistics using `np.mean()`, `np.std()`.\n",
    "- **Matrix Operations**: Use functions like `np.dot()`, `np.linalg.inv()` for matrix multiplication, inversion, etc."
   ]
  },
  {
   "cell_type": "code",
   "execution_count": null,
   "metadata": {},
   "outputs": [],
   "source": [
    "import numpy as np"
   ]
  },
  {
   "cell_type": "code",
   "execution_count": null,
   "metadata": {},
   "outputs": [],
   "source": [
    "# Create a 1D array\n",
    "arr1 = np.array([1, 2, 3, 4, 5])\n",
    "print(\"1D Array:\", arr1)\n",
    "\n",
    "# Create a 2D array\n",
    "arr2 = np.array([[1, 2, 3], [4, 5, 6]])\n",
    "print(\"2D Array:\\n\", arr2)"
   ]
  },
  {
   "cell_type": "code",
   "execution_count": null,
   "metadata": {},
   "outputs": [],
   "source": [
    "a = np.array([10, 20, 30])\n",
    "b = np.array([1, 2, 3])\n",
    "\n",
    "# Element-wise addition\n",
    "print(\"Addition:\", a + b)\n",
    "\n",
    "# Element-wise multiplication\n",
    "print(\"Multiplication:\", a * b)\n",
    "\n",
    "# Mean and Standard Deviation\n",
    "print(\"Mean:\", np.mean(a))\n",
    "print(\"Standard Deviation:\", np.std(a))"
   ]
  },
  {
   "cell_type": "code",
   "execution_count": null,
   "metadata": {},
   "outputs": [],
   "source": [
    "# Array of zeros\n",
    "zeros = np.zeros((3, 3))\n",
    "print(\"Zeros Array:\\n\", zeros)\n",
    "\n",
    "# Array of ones\n",
    "ones = np.ones((2, 2))\n",
    "print(\"Ones Array:\\n\", ones)\n",
    "\n",
    "# Identity Matrix\n",
    "identity = np.eye(3)\n",
    "print(\"Identity Matrix:\\n\", identity)"
   ]
  },
  {
   "cell_type": "code",
   "execution_count": null,
   "metadata": {},
   "outputs": [],
   "source": [
    "# Example of Matrix Multiplication using np.dot()\n",
    "\n",
    "import numpy as np\n",
    "\n",
    "# Define two matrices\n",
    "matrix1 = np.array([[1, 2], [3, 4]])\n",
    "matrix2 = np.array([[5, 6], [7, 8]])\n",
    "\n",
    "# Perform matrix multiplication\n",
    "result = np.dot(matrix1, matrix2)\n",
    "print(\"Matrix Multiplication Result:\\n\", result)\n"
   ]
  },
  {
   "cell_type": "code",
   "execution_count": null,
   "metadata": {},
   "outputs": [],
   "source": [
    "# Example of Matrix Inversion using np.linalg.inv()\n",
    "\n",
    "import numpy as np\n",
    "\n",
    "# Define a square matrix\n",
    "matrix = np.array([[1, 2], [3, 4]])\n",
    "\n",
    "# Perform matrix inversion\n",
    "inverse_matrix = np.linalg.inv(matrix)\n",
    "print(\"Inverse of Matrix:\\n\", inverse_matrix)\n"
   ]
  },
  {
   "cell_type": "markdown",
   "metadata": {},
   "source": [
    "### Data Analysis with pandas"
   ]
  },
  {
   "cell_type": "code",
   "execution_count": null,
   "metadata": {},
   "outputs": [],
   "source": [
    "import pandas as pd"
   ]
  },
  {
   "cell_type": "code",
   "execution_count": null,
   "metadata": {},
   "outputs": [],
   "source": [
    "data = {'Name': ['Alice', 'Bob', 'Charlie'], 'Age': [25, 30, 35]}\n",
    "df = pd.DataFrame(data)\n",
    "print(df)"
   ]
  },
  {
   "cell_type": "code",
   "execution_count": null,
   "metadata": {},
   "outputs": [],
   "source": [
    "# Read the CSV file\n",
    "df = pd.read_csv('dummy_data.csv')\n",
    "\n",
    "# Display the first few rows of the DataFrame\n",
    "print(df.head())"
   ]
  },
  {
   "cell_type": "code",
   "execution_count": null,
   "metadata": {},
   "outputs": [],
   "source": [
    "# Select the 'Name' column\n",
    "names = df['Name']\n",
    "print(names)\n",
    "\n",
    "# Select multiple columns ('Name' and 'Salary')\n",
    "names_and_salaries = df[['Name', 'Salary']]\n",
    "print(names_and_salaries)"
   ]
  },
  {
   "cell_type": "code",
   "execution_count": null,
   "metadata": {},
   "outputs": [],
   "source": [
    "# Select people aged 30 or older\n",
    "age_30_or_older = df[df['Age'] >= 30]\n",
    "print(age_30_or_older)\n",
    "\n",
    "# Select people from a specific city (e.g., 'Seattle')\n",
    "seattle_residents = df[df['City'] == 'Seattle']\n",
    "print(seattle_residents)"
   ]
  },
  {
   "cell_type": "code",
   "execution_count": null,
   "metadata": {},
   "outputs": [],
   "source": [
    "# Sort by Salary in descending order\n",
    "sorted_by_salary = df.sort_values(by='Salary', ascending=False)\n",
    "print(sorted_by_salary.head())\n",
    "\n",
    "# Sort by Age in ascending order\n",
    "sorted_by_age = df.sort_values(by='Age')\n",
    "print(sorted_by_age.head())"
   ]
  },
  {
   "cell_type": "code",
   "execution_count": null,
   "metadata": {},
   "outputs": [],
   "source": [
    "mean_age = df['Age'].mean()\n",
    "print(f\"Mean Age: {mean_age}\")\n",
    "\n",
    "# Calculate the mean of the 'Salary' column\n",
    "mean_salary = df['Salary'].mean()\n",
    "print(f\"Mean Salary: ${mean_salary}\")"
   ]
  },
  {
   "cell_type": "markdown",
   "metadata": {},
   "source": [
    "### Data Visualization with matplotlib\n",
    "\n",
    "Matplotlib is a plotting library for creating static, animated, and interactive visualizations in Python. It is commonly used for generating graphs, charts, and figures to represent data in an understandable and visually appealing manner.\n",
    "\n",
    "#### Common Matplotlib Operations:\n",
    "- **Bar Chart**: Use `plt.bar()` to create bar charts. Example: Plotting items sold by stores.\n",
    "- **Line Plot**: Use `plt.plot()` to create line plots for continuous data.\n",
    "- **Scatter Plot**: Use `plt.scatter()` for visualizing relationships between two variables (e.g., age vs. salary).\n",
    "- **Histograms**: Plot distributions of data using `plt.hist()`.\n",
    "- **Titles and Labels**: Set titles and axis labels using `plt.title()`, `plt.xlabel()`, and `plt.ylabel()`.\n",
    "- **Customizing Plots**: Adjust colors, styles, and transparency with parameters like `color`, `alpha`, and others.\n",
    "- **Displaying Plots**: Show the generated plots using `plt.show()`.\n",
    "\n",
    "Matplotlib is essential for data visualization in Python, making it easier to interpret and present data graphically.\n"
   ]
  },
  {
   "cell_type": "code",
   "execution_count": null,
   "metadata": {},
   "outputs": [],
   "source": [
    "import matplotlib.pyplot as plt"
   ]
  },
  {
   "cell_type": "code",
   "execution_count": null,
   "metadata": {},
   "outputs": [],
   "source": [
    "# Data for stores and items sold\n",
    "stores = ['Store A', 'Store B', 'Store C', 'Store D', 'Store E']\n",
    "items_sold = [200, 450, 300, 500, 650]\n",
    "\n",
    "# Create a bar chart\n",
    "plt.bar(stores, items_sold, color='orange')\n",
    "\n",
    "# Adding title and labels\n",
    "plt.xlabel('Stores')\n",
    "plt.ylabel('Items Sold')\n",
    "plt.title('Items Sold by Each Store')\n",
    "\n",
    "# Show the plot\n",
    "plt.show()"
   ]
  },
  {
   "cell_type": "code",
   "execution_count": null,
   "metadata": {},
   "outputs": [],
   "source": [
    "# Scatter plot for Age vs Salary\n",
    "plt.scatter(df['Age'], df['Salary'], color='blue', alpha=1)\n",
    "\n",
    "# Adding title and labels\n",
    "plt.title('Age vs Salary Scatter Plot')\n",
    "plt.xlabel('Age')\n",
    "plt.ylabel('Salary')\n",
    "\n",
    "# Show the plot\n",
    "plt.show()"
   ]
  },
  {
   "cell_type": "markdown",
   "metadata": {},
   "source": [
    "### Image Processing with OpenCV\n",
    "\n",
    "OpenCV (Open Source Computer Vision Library) is a popular library for image processing and computer vision tasks.\n",
    "\n",
    "#### Common OpenCV Operations:\n",
    "- **Reading and Displaying Images**: Use `cv2.imread()` to load images and `cv2.imshow()` to display them.\n",
    "- **Grayscale Images**: Load images in grayscale using `cv2.imread()` with the `cv2.IMREAD_GRAYSCALE` flag.\n",
    "- **Color Conversion**: Convert images between color spaces with `cv2.cvtColor()`, e.g., BGR to RGB.\n",
    "- **Displaying with Matplotlib**: Use `matplotlib` to display images with more control, especially for grayscale images.\n",
    "\n",
    "#### More Operations in OpenCV:\n",
    "- **Image Manipulation**: Perform operations like resizing, cropping, and rotating images.\n",
    "- **Edge Detection**: Detect edges using algorithms like the Canny edge detector (`cv2.Canny()`).\n",
    "- **Object Detection**: Implement object detection with pre-trained models or using `cv2.findContours()`.\n",
    "- **Drawing on Images**: Draw shapes like lines, circles, or rectangles with `cv2.line()` or `cv2.rectangle()`.\n",
    "- **Video Analysis**: Analyze and process video frames in real time using `cv2.VideoCapture()`.\n"
   ]
  },
  {
   "cell_type": "code",
   "execution_count": null,
   "metadata": {},
   "outputs": [],
   "source": [
    "import cv2"
   ]
  },
  {
   "cell_type": "code",
   "execution_count": null,
   "metadata": {},
   "outputs": [],
   "source": [
    "img = cv2.imread('sample_image.jpg')\n",
    "cv2.imshow('Image', img)\n",
    "cv2.waitKey(0)\n",
    "cv2.destroyAllWindows()"
   ]
  },
  {
   "cell_type": "code",
   "execution_count": null,
   "metadata": {},
   "outputs": [],
   "source": [
    "# Load the image in grayscale\n",
    "img_gray = cv2.imread('sample_image.jpg', cv2.IMREAD_GRAYSCALE)\n",
    "cv2.imshow('Gray Image', img_gray)\n",
    "cv2.waitKey(0)\n",
    "cv2.destroyAllWindows()"
   ]
  },
  {
   "cell_type": "code",
   "execution_count": null,
   "metadata": {},
   "outputs": [],
   "source": [
    "# Convert the image to RGB and display using matplotlib\n",
    "img_rgb = cv2.cvtColor(img, cv2.COLOR_BGR2RGB)\n",
    "plt.imshow(img_rgb)\n",
    "plt.show()"
   ]
  },
  {
   "cell_type": "code",
   "execution_count": null,
   "metadata": {},
   "outputs": [],
   "source": [
    "# Display the grayscale image using matplotlib\n",
    "plt.imshow(img_gray, cmap='gray')\n",
    "plt.show()"
   ]
  },
  {
   "cell_type": "markdown",
   "metadata": {},
   "source": [
    "### Simple Machine Learning Classifier with MNIST dataset\n",
    "\n",
    "Scikit-learn is a popular library for machine learning in Python, providing easy-to-use tools for data analysis, model building, and evaluation.\n",
    "\n",
    "(**Note:** The MNIST dataset files are expected to be in the `data` folder. If you don't have these files, they will be automatically downloaded.)\n",
    "\n",
    "\n",
    "#### Common Machine Learning Operations:\n",
    "- **Loading Datasets**: Load datasets like MNIST using `fetch_openml()` for digit recognition tasks.\n",
    "- **Data Preprocessing**: Normalize or standardize data using techniques like dividing pixel values by 255.\n",
    "- **Model Training**: Train machine learning models, such as `RandomForestClassifier`, using `model.fit()`.\n",
    "- **Model Evaluation**: Evaluate model accuracy using metrics like `accuracy_score` to measure the model's performance on test data.\n",
    "- **Data Visualization**: Use libraries like `matplotlib` to visualize images from datasets and compare predictions.\n",
    "\n",
    "#### Example Workflow:\n",
    "1. Load the MNIST dataset and normalize pixel values.\n",
    "2. Split data into training and testing sets using `train_test_split()`.\n",
    "3. Train a machine learning model (e.g., RandomForestClassifier).\n",
    "4. Evaluate model accuracy and visualize predictions on test images.\n",
    "\n",
    "#### More Operations in Machine Learning:\n",
    "- **Model Hyperparameter Tuning**: Optimize models using grid search or cross-validation.\n",
    "- **Classification and Regression**: Apply algorithms for classification (e.g., Random Forest) or regression tasks (e.g., Linear Regression).\n",
    "- **Cross-Validation**: Perform cross-validation to validate the model's performance across different splits.\n",
    "- **Clustering**: Use clustering algorithms like K-means for unsupervised learning tasks."
   ]
  },
  {
   "cell_type": "code",
   "execution_count": null,
   "metadata": {},
   "outputs": [],
   "source": [
    "import numpy as np\n",
    "from sklearn.datasets import fetch_openml\n",
    "from sklearn.model_selection import train_test_split\n",
    "from sklearn.ensemble import RandomForestClassifier\n",
    "from sklearn.metrics import accuracy_score"
   ]
  },
  {
   "cell_type": "code",
   "execution_count": null,
   "metadata": {},
   "outputs": [],
   "source": [
    "mnist = fetch_openml('mnist_784', version=1, data_home='data/')\n",
    "X = mnist.data / 255.0  # Normalize pixel values\n",
    "y = mnist.target.values.astype(int)\n"
   ]
  },
  {
   "cell_type": "code",
   "execution_count": null,
   "metadata": {},
   "outputs": [],
   "source": [
    "# Display the first 5 images and their labels\n",
    "fig, axes = plt.subplots(1, 5, figsize=(12, 6))\n",
    "\n",
    "# Randomly select 5 indices from the test set\n",
    "random_indices = np.random.choice(len(X), size=5, replace=False)\n",
    "\n",
    "for i, idx in enumerate(random_indices):\n",
    "    axes[i].imshow(X.iloc[idx].values.reshape(28, 28), cmap='gray')\n",
    "    axes[i].set_title(f\"Label: {y[idx]}\")\n",
    "    axes[i].axis('off')\n",
    "\n",
    "plt.show()"
   ]
  },
  {
   "cell_type": "code",
   "execution_count": null,
   "metadata": {},
   "outputs": [],
   "source": [
    "X_train, X_test, y_train, y_test = train_test_split(X, y, test_size=0.2, random_state=42)"
   ]
  },
  {
   "cell_type": "code",
   "execution_count": null,
   "metadata": {},
   "outputs": [],
   "source": [
    "model = RandomForestClassifier(n_estimators=100)\n",
    "model.fit(X_train, y_train)"
   ]
  },
  {
   "cell_type": "code",
   "execution_count": null,
   "metadata": {},
   "outputs": [],
   "source": [
    "# Evaluate model\n",
    "y_pred = model.predict(X_test)\n",
    "accuracy = accuracy_score(y_test, y_pred)\n",
    "print(f\"Model Accuracy on MNIST: {accuracy * 100:.2f}%\")"
   ]
  },
  {
   "cell_type": "code",
   "execution_count": null,
   "metadata": {},
   "outputs": [],
   "source": [
    "# Randomly select 5 indices from the test set\n",
    "random_indices = np.random.choice(len(X_test), size=5, replace=False)\n",
    "\n",
    "# Display the images with predictions\n",
    "fig, axes = plt.subplots(1, 5, figsize=(12, 6))\n",
    "\n",
    "for i, idx in enumerate(random_indices):\n",
    "    axes[i].imshow(X_test.iloc[idx].values.reshape(28, 28), cmap='gray')\n",
    "    axes[i].set_title(f\"Pred: {y_pred[idx]}\")\n",
    "    axes[i].axis('off')"
   ]
  }
 ],
 "metadata": {
  "kernelspec": {
   "display_name": "spark",
   "language": "python",
   "name": "python3"
  },
  "language_info": {
   "codemirror_mode": {
    "name": "ipython",
    "version": 3
   },
   "file_extension": ".py",
   "mimetype": "text/x-python",
   "name": "python",
   "nbconvert_exporter": "python",
   "pygments_lexer": "ipython3",
   "version": "3.12.0"
  }
 },
 "nbformat": 4,
 "nbformat_minor": 2
}
